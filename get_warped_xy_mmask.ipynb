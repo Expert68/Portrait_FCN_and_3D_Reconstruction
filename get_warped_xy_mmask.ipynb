{
 "cells": [
  {
   "cell_type": "markdown",
   "metadata": {},
   "source": [
    "## Python version of get_warped_xy_mmask.m"
   ]
  },
  {
   "cell_type": "markdown",
   "metadata": {},
   "source": [
    "### Import modules"
   ]
  },
  {
   "cell_type": "code",
   "execution_count": 116,
   "metadata": {
    "collapsed": false
   },
   "outputs": [],
   "source": [
    "# make sure to conda install imread, cv2\n",
    "\n",
    "import os\n",
    "import sys\n",
    "import numpy as np\n",
    "import cv2\n",
    "import numpy.matlib\n",
    "import dlib\n",
    "\n",
    "from scipy.io import loadmat\n",
    "from scipy.ndimage import imread, affine_transform\n"
   ]
  },
  {
   "cell_type": "markdown",
   "metadata": {},
   "source": [
    "### Add data folder to path and import .mat file"
   ]
  },
  {
   "cell_type": "code",
   "execution_count": 117,
   "metadata": {
    "collapsed": false
   },
   "outputs": [],
   "source": [
    "tracker_path = r'data/images_tracker/00047'\n",
    "reftracker = loadmat(tracker_path)['tracker']\n"
   ]
  },
  {
   "cell_type": "markdown",
   "metadata": {},
   "source": [
    "### Normalize x and y channels"
   ]
  },
  {
   "cell_type": "code",
   "execution_count": 142,
   "metadata": {
    "collapsed": false,
    "scrolled": true
   },
   "outputs": [],
   "source": [
    "\n",
    "def get_facial_points(image, num_points):\n",
    "    predictor = dlib.shape_predictor('shape_predictor_68_face_landmarks.dat')\n",
    "    detector = dlib.get_frontal_face_detector()\n",
    "    dets = detector(image, 1)\n",
    "    points = []\n",
    "    for k, d in enumerate(dets):\n",
    "        # Get the landmarks/parts for the face in box d.\n",
    "        shape = predictor(image, d)\n",
    "        for i in range(num_points):\n",
    "            pt = shape.part(i)\n",
    "            points.append([int(pt.x), int(pt.y)])\n",
    "    return np.array(points)\n",
    "\n",
    "def im2double(im):\n",
    "    info = np.iinfo(im.dtype) # Get the data type of the input image\n",
    "    return im.astype(np.float) / info.max # Divide all values by the largest possible value in the datatype\n",
    "\n",
    "def normalize_image(imat):\n",
    "    rgb = np.zeros((imat.shape[0], imat.shape[1], 3), dtype=np.float)\n",
    "    rgb[:, :, 0] = (imat[:, :, 2] - 104.008)/255\n",
    "    rgb[:, :, 1] = (imat[:, :, 1] - 116.669)/255\n",
    "    rgb[:, :, 2] = (imat[:, :, 0] - 122.675)/255\n",
    "    return rgb\n",
    "\n",
    "refpos = np.floor(reftracker.mean(axis=0))\n",
    "\n",
    "xxc, yyc = np.meshgrid(np.linspace(1,1800, 1800), np.linspace(1,2000, 2000))\n",
    "xxc = (xxc-600-refpos[0])/600\n",
    "yyc = (yyc-600-refpos[1])/800"
   ]
  },
  {
   "cell_type": "code",
   "execution_count": 119,
   "metadata": {
    "collapsed": false
   },
   "outputs": [
    {
     "name": "stdout",
     "output_type": "stream",
     "text": [
      "0.3671111111111111\n"
     ]
    }
   ],
   "source": [
    "mmask_png =  r'meanmask.png'\n",
    "maskc = im2double(imread(mmask_png))\n",
    "print(np.mean(maskc[0]))\n",
    "maskc = np.pad(maskc, [600,600], 'constant')"
   ]
  },
  {
   "cell_type": "code",
   "execution_count": null,
   "metadata": {
    "collapsed": false
   },
   "outputs": [],
   "source": []
  },
  {
   "cell_type": "markdown",
   "metadata": {},
   "source": [
    "### Conditional on destracker"
   ]
  },
  {
   "cell_type": "code",
   "execution_count": 76,
   "metadata": {
    "collapsed": false
   },
   "outputs": [
    {
     "ename": "IOError",
     "evalue": "[Errno 2] No such file or directory: 'data/portraitFCN+_data/00688.mat'",
     "output_type": "error",
     "traceback": [
      "\u001b[0;31m---------------------------------------------------------------------------\u001b[0m",
      "\u001b[0;31mIOError\u001b[0m                                   Traceback (most recent call last)",
      "\u001b[0;32m<ipython-input-76-ad453a0e64fa>\u001b[0m in \u001b[0;36m<module>\u001b[0;34m()\u001b[0m\n\u001b[1;32m      1\u001b[0m \u001b[0mdestracker_path\u001b[0m \u001b[0;34m=\u001b[0m \u001b[0;34mr'data/images_tracker/00688'\u001b[0m\u001b[0;34m\u001b[0m\u001b[0m\n\u001b[1;32m      2\u001b[0m \u001b[0mdestracker\u001b[0m \u001b[0;34m=\u001b[0m \u001b[0mloadmat\u001b[0m\u001b[0;34m(\u001b[0m\u001b[0mdestracker_path\u001b[0m\u001b[0;34m)\u001b[0m\u001b[0;34m[\u001b[0m\u001b[0;34m'tracker'\u001b[0m\u001b[0;34m]\u001b[0m\u001b[0;34m\u001b[0m\u001b[0m\n\u001b[0;32m----> 3\u001b[0;31m \u001b[0mimage\u001b[0m \u001b[0;34m=\u001b[0m \u001b[0mloadmat\u001b[0m\u001b[0;34m(\u001b[0m\u001b[0;34mr'data/portraitFCN+_data/00688'\u001b[0m\u001b[0;34m)\u001b[0m\u001b[0;34m[\u001b[0m\u001b[0;34m'img'\u001b[0m\u001b[0;34m]\u001b[0m\u001b[0;34m\u001b[0m\u001b[0m\n\u001b[0m\u001b[1;32m      4\u001b[0m \u001b[0mimg_true\u001b[0m \u001b[0;34m=\u001b[0m \u001b[0mimage\u001b[0m\u001b[0;34m[\u001b[0m\u001b[0;34m:\u001b[0m\u001b[0;34m,\u001b[0m \u001b[0;34m:\u001b[0m\u001b[0;34m,\u001b[0m \u001b[0;36m0\u001b[0m\u001b[0;34m:\u001b[0m\u001b[0;36m3\u001b[0m\u001b[0;34m]\u001b[0m\u001b[0;34m\u001b[0m\u001b[0m\n\u001b[1;32m      5\u001b[0m \u001b[0mwarpedxx_true\u001b[0m \u001b[0;34m=\u001b[0m \u001b[0mimage\u001b[0m\u001b[0;34m[\u001b[0m\u001b[0;34m:\u001b[0m\u001b[0;34m,\u001b[0m \u001b[0;34m:\u001b[0m\u001b[0;34m,\u001b[0m \u001b[0;36m3\u001b[0m\u001b[0;34m]\u001b[0m\u001b[0;34m\u001b[0m\u001b[0m\n",
      "\u001b[0;32m/Users/yu-chieh/anaconda2/lib/python2.7/site-packages/scipy/io/matlab/mio.pyc\u001b[0m in \u001b[0;36mloadmat\u001b[0;34m(file_name, mdict, appendmat, **kwargs)\u001b[0m\n\u001b[1;32m    133\u001b[0m     \"\"\"\n\u001b[1;32m    134\u001b[0m     \u001b[0mvariable_names\u001b[0m \u001b[0;34m=\u001b[0m \u001b[0mkwargs\u001b[0m\u001b[0;34m.\u001b[0m\u001b[0mpop\u001b[0m\u001b[0;34m(\u001b[0m\u001b[0;34m'variable_names'\u001b[0m\u001b[0;34m,\u001b[0m \u001b[0mNone\u001b[0m\u001b[0;34m)\u001b[0m\u001b[0;34m\u001b[0m\u001b[0m\n\u001b[0;32m--> 135\u001b[0;31m     \u001b[0mMR\u001b[0m \u001b[0;34m=\u001b[0m \u001b[0mmat_reader_factory\u001b[0m\u001b[0;34m(\u001b[0m\u001b[0mfile_name\u001b[0m\u001b[0;34m,\u001b[0m \u001b[0mappendmat\u001b[0m\u001b[0;34m,\u001b[0m \u001b[0;34m**\u001b[0m\u001b[0mkwargs\u001b[0m\u001b[0;34m)\u001b[0m\u001b[0;34m\u001b[0m\u001b[0m\n\u001b[0m\u001b[1;32m    136\u001b[0m     \u001b[0mmatfile_dict\u001b[0m \u001b[0;34m=\u001b[0m \u001b[0mMR\u001b[0m\u001b[0;34m.\u001b[0m\u001b[0mget_variables\u001b[0m\u001b[0;34m(\u001b[0m\u001b[0mvariable_names\u001b[0m\u001b[0;34m)\u001b[0m\u001b[0;34m\u001b[0m\u001b[0m\n\u001b[1;32m    137\u001b[0m     \u001b[0;32mif\u001b[0m \u001b[0mmdict\u001b[0m \u001b[0;32mis\u001b[0m \u001b[0;32mnot\u001b[0m \u001b[0mNone\u001b[0m\u001b[0;34m:\u001b[0m\u001b[0;34m\u001b[0m\u001b[0m\n",
      "\u001b[0;32m/Users/yu-chieh/anaconda2/lib/python2.7/site-packages/scipy/io/matlab/mio.pyc\u001b[0m in \u001b[0;36mmat_reader_factory\u001b[0;34m(file_name, appendmat, **kwargs)\u001b[0m\n\u001b[1;32m     56\u001b[0m        \u001b[0mtype\u001b[0m \u001b[0mdetected\u001b[0m \u001b[0;32min\u001b[0m \u001b[0;34m`\u001b[0m\u001b[0mfilename\u001b[0m\u001b[0;34m`\u001b[0m\u001b[0;34m.\u001b[0m\u001b[0;34m\u001b[0m\u001b[0m\n\u001b[1;32m     57\u001b[0m     \"\"\"\n\u001b[0;32m---> 58\u001b[0;31m     \u001b[0mbyte_stream\u001b[0m \u001b[0;34m=\u001b[0m \u001b[0m_open_file\u001b[0m\u001b[0;34m(\u001b[0m\u001b[0mfile_name\u001b[0m\u001b[0;34m,\u001b[0m \u001b[0mappendmat\u001b[0m\u001b[0;34m)\u001b[0m\u001b[0;34m\u001b[0m\u001b[0m\n\u001b[0m\u001b[1;32m     59\u001b[0m     \u001b[0mmjv\u001b[0m\u001b[0;34m,\u001b[0m \u001b[0mmnv\u001b[0m \u001b[0;34m=\u001b[0m \u001b[0mget_matfile_version\u001b[0m\u001b[0;34m(\u001b[0m\u001b[0mbyte_stream\u001b[0m\u001b[0;34m)\u001b[0m\u001b[0;34m\u001b[0m\u001b[0m\n\u001b[1;32m     60\u001b[0m     \u001b[0;32mif\u001b[0m \u001b[0mmjv\u001b[0m \u001b[0;34m==\u001b[0m \u001b[0;36m0\u001b[0m\u001b[0;34m:\u001b[0m\u001b[0;34m\u001b[0m\u001b[0m\n",
      "\u001b[0;32m/Users/yu-chieh/anaconda2/lib/python2.7/site-packages/scipy/io/matlab/mio.pyc\u001b[0m in \u001b[0;36m_open_file\u001b[0;34m(file_like, appendmat)\u001b[0m\n\u001b[1;32m     26\u001b[0m                 \u001b[0mfile_like\u001b[0m \u001b[0;34m+=\u001b[0m \u001b[0;34m'.mat'\u001b[0m\u001b[0;34m\u001b[0m\u001b[0m\n\u001b[1;32m     27\u001b[0m                 \u001b[0;32mtry\u001b[0m\u001b[0;34m:\u001b[0m\u001b[0;34m\u001b[0m\u001b[0m\n\u001b[0;32m---> 28\u001b[0;31m                     \u001b[0;32mreturn\u001b[0m \u001b[0mopen\u001b[0m\u001b[0;34m(\u001b[0m\u001b[0mfile_like\u001b[0m\u001b[0;34m,\u001b[0m \u001b[0;34m'rb'\u001b[0m\u001b[0;34m)\u001b[0m\u001b[0;34m\u001b[0m\u001b[0m\n\u001b[0m\u001b[1;32m     29\u001b[0m                 \u001b[0;32mexcept\u001b[0m \u001b[0mIOError\u001b[0m\u001b[0;34m:\u001b[0m\u001b[0;34m\u001b[0m\u001b[0m\n\u001b[1;32m     30\u001b[0m                     \u001b[0;32mpass\u001b[0m  \u001b[0;31m# Rethrow the original exception.\u001b[0m\u001b[0;34m\u001b[0m\u001b[0m\n",
      "\u001b[0;31mIOError\u001b[0m: [Errno 2] No such file or directory: 'data/portraitFCN+_data/00688.mat'"
     ]
    }
   ],
   "source": [
    "destracker_path = r'data/images_tracker/00688'\n",
    "destracker = loadmat(destracker_path)['tracker']\n",
    "image = loadmat(r'data/portraitFCN+_data/00688')['img']\n",
    "img_true = image[:, :, 0:3]\n",
    "warpedxx_true = image[:, :, 3]\n",
    "warpedyy_true = image[:, :, 4]\n",
    "warpedmask_true = image[:, :, 5]\n",
    "\n",
    "if np.shape(destracker)[0] == 49:\n",
    "    print('ree')"
   ]
  },
  {
   "cell_type": "code",
   "execution_count": 6,
   "metadata": {
    "collapsed": false
   },
   "outputs": [],
   "source": [
    "import nudged"
   ]
  },
  {
   "cell_type": "code",
   "execution_count": 61,
   "metadata": {
    "collapsed": false
   },
   "outputs": [
    {
     "data": {
      "text/plain": [
       "{0}"
      ]
     },
     "execution_count": 61,
     "metadata": {},
     "output_type": "execute_result"
    }
   ],
   "source": []
  },
  {
   "cell_type": "code",
   "execution_count": 51,
   "metadata": {
    "collapsed": false
   },
   "outputs": [
    {
     "ename": "AttributeError",
     "evalue": "'NoneType' object has no attribute 'shape'",
     "output_type": "error",
     "traceback": [
      "\u001b[0;31m---------------------------------------------------------------------------\u001b[0m",
      "\u001b[0;31mAttributeError\u001b[0m                            Traceback (most recent call last)",
      "\u001b[0;32m<ipython-input-51-9dff1b5c607a>\u001b[0m in \u001b[0;36m<module>\u001b[0;34m()\u001b[0m\n\u001b[1;32m      1\u001b[0m \u001b[0;31m# tform = cv2.getAffineTransform(pts1, pts2)\u001b[0m\u001b[0;34m\u001b[0m\u001b[0;34m\u001b[0m\u001b[0m\n\u001b[0;32m----> 2\u001b[0;31m \u001b[0ma\u001b[0m \u001b[0;34m=\u001b[0m \u001b[0mget_facial_points\u001b[0m\u001b[0;34m(\u001b[0m\u001b[0mnormalize_image\u001b[0m\u001b[0;34m(\u001b[0m\u001b[0mimg_true\u001b[0m\u001b[0;34m)\u001b[0m\u001b[0;34m.\u001b[0m\u001b[0mastype\u001b[0m\u001b[0;34m(\u001b[0m\u001b[0mnp\u001b[0m\u001b[0;34m.\u001b[0m\u001b[0muint8\u001b[0m\u001b[0;34m)\u001b[0m\u001b[0;34m,\u001b[0m \u001b[0;36m49\u001b[0m\u001b[0;34m)\u001b[0m\u001b[0;34m\u001b[0m\u001b[0m\n\u001b[0m\u001b[1;32m      3\u001b[0m \u001b[0;31m# b = reftracker\u001b[0m\u001b[0;34m\u001b[0m\u001b[0;34m\u001b[0m\u001b[0m\n\u001b[1;32m      4\u001b[0m \u001b[0;31m# h, status = cv2.findHomography(a, b)\u001b[0m\u001b[0;34m\u001b[0m\u001b[0;34m\u001b[0m\u001b[0m\n",
      "\u001b[0;32m<ipython-input-3-717098799d00>\u001b[0m in \u001b[0;36mnormalize_image\u001b[0;34m(imat)\u001b[0m\n\u001b[1;32m     18\u001b[0m \u001b[0;34m\u001b[0m\u001b[0m\n\u001b[1;32m     19\u001b[0m \u001b[0;32mdef\u001b[0m \u001b[0mnormalize_image\u001b[0m\u001b[0;34m(\u001b[0m\u001b[0mimat\u001b[0m\u001b[0;34m)\u001b[0m\u001b[0;34m:\u001b[0m\u001b[0;34m\u001b[0m\u001b[0m\n\u001b[0;32m---> 20\u001b[0;31m     \u001b[0mrgb\u001b[0m \u001b[0;34m=\u001b[0m \u001b[0mnp\u001b[0m\u001b[0;34m.\u001b[0m\u001b[0mzeros\u001b[0m\u001b[0;34m(\u001b[0m\u001b[0;34m(\u001b[0m\u001b[0mimat\u001b[0m\u001b[0;34m.\u001b[0m\u001b[0mshape\u001b[0m\u001b[0;34m[\u001b[0m\u001b[0;36m0\u001b[0m\u001b[0;34m]\u001b[0m\u001b[0;34m,\u001b[0m \u001b[0mimat\u001b[0m\u001b[0;34m.\u001b[0m\u001b[0mshape\u001b[0m\u001b[0;34m[\u001b[0m\u001b[0;36m1\u001b[0m\u001b[0;34m]\u001b[0m\u001b[0;34m,\u001b[0m \u001b[0;36m3\u001b[0m\u001b[0;34m)\u001b[0m\u001b[0;34m,\u001b[0m \u001b[0mdtype\u001b[0m\u001b[0;34m=\u001b[0m\u001b[0mnp\u001b[0m\u001b[0;34m.\u001b[0m\u001b[0mint\u001b[0m\u001b[0;34m)\u001b[0m\u001b[0;34m\u001b[0m\u001b[0m\n\u001b[0m\u001b[1;32m     21\u001b[0m     \u001b[0mrgb\u001b[0m\u001b[0;34m[\u001b[0m\u001b[0;34m:\u001b[0m\u001b[0;34m,\u001b[0m \u001b[0;34m:\u001b[0m\u001b[0;34m,\u001b[0m \u001b[0;36m0\u001b[0m\u001b[0;34m]\u001b[0m \u001b[0;34m=\u001b[0m \u001b[0mnp\u001b[0m\u001b[0;34m.\u001b[0m\u001b[0mround\u001b[0m\u001b[0;34m(\u001b[0m\u001b[0;34m(\u001b[0m\u001b[0mimat\u001b[0m\u001b[0;34m[\u001b[0m\u001b[0;34m:\u001b[0m\u001b[0;34m,\u001b[0m \u001b[0;34m:\u001b[0m\u001b[0;34m,\u001b[0m \u001b[0;36m2\u001b[0m\u001b[0;34m]\u001b[0m \u001b[0;34m+\u001b[0m \u001b[0;36m122.675\u001b[0m\u001b[0;34m)\u001b[0m\u001b[0;34m/\u001b[0m\u001b[0;36m255\u001b[0m\u001b[0;34m)\u001b[0m\u001b[0;34m\u001b[0m\u001b[0m\n\u001b[1;32m     22\u001b[0m     \u001b[0mrgb\u001b[0m\u001b[0;34m[\u001b[0m\u001b[0;34m:\u001b[0m\u001b[0;34m,\u001b[0m \u001b[0;34m:\u001b[0m\u001b[0;34m,\u001b[0m \u001b[0;36m1\u001b[0m\u001b[0;34m]\u001b[0m \u001b[0;34m=\u001b[0m \u001b[0mnp\u001b[0m\u001b[0;34m.\u001b[0m\u001b[0mround\u001b[0m\u001b[0;34m(\u001b[0m\u001b[0;34m(\u001b[0m\u001b[0mimat\u001b[0m\u001b[0;34m[\u001b[0m\u001b[0;34m:\u001b[0m\u001b[0;34m,\u001b[0m \u001b[0;34m:\u001b[0m\u001b[0;34m,\u001b[0m \u001b[0;36m1\u001b[0m\u001b[0;34m]\u001b[0m \u001b[0;34m+\u001b[0m \u001b[0;36m116.669\u001b[0m\u001b[0;34m)\u001b[0m\u001b[0;34m/\u001b[0m\u001b[0;36m255\u001b[0m\u001b[0;34m)\u001b[0m\u001b[0;34m\u001b[0m\u001b[0m\n",
      "\u001b[0;31mAttributeError\u001b[0m: 'NoneType' object has no attribute 'shape'"
     ]
    }
   ],
   "source": [
    "# tform = cv2.getAffineTransform(pts1, pts2)\n",
    "a = get_facial_points(normalize_image(img_true).astype(np.uint8), 49)\n",
    "# b = reftracker\n",
    "# h, status = cv2.findHomography(a, b)"
   ]
  },
  {
   "cell_type": "code",
   "execution_count": 24,
   "metadata": {
    "collapsed": false
   },
   "outputs": [],
   "source": [
    "trans = nudged.estimate(a, b);\n",
    "h = np.array(trans.get_matrix())[0:2]"
   ]
  },
  {
   "cell_type": "code",
   "execution_count": 25,
   "metadata": {
    "collapsed": false
   },
   "outputs": [],
   "source": [
    "# affine_transform(a, b)\n",
    "warpedxx = np.array(cv2.warpAffine(xxc, h, xxc.shape))\n",
    "warpedyy = np.array(cv2.warpAffine(yyc, h, yyc.shape))\n",
    "warpedmask = np.array(cv2.warpAffine(maskc, h, maskc.shape))\n"
   ]
  },
  {
   "cell_type": "code",
   "execution_count": 26,
   "metadata": {
    "collapsed": false
   },
   "outputs": [],
   "source": [
    "warpedxx = warpedxx[600:1400, 600:1200]\n",
    "warpedyy = warpedyy[600:1400, 600:1200]\n",
    "warpedmask = warpedmask[600:1400, 600:1200]\n",
    "        "
   ]
  },
  {
   "cell_type": "code",
   "execution_count": 27,
   "metadata": {
    "collapsed": false
   },
   "outputs": [],
   "source": [
    "e = warpedxx-warpedxx_true"
   ]
  },
  {
   "cell_type": "code",
   "execution_count": 28,
   "metadata": {
    "collapsed": false
   },
   "outputs": [
    {
     "data": {
      "text/plain": [
       "0.084494704750518"
      ]
     },
     "execution_count": 28,
     "metadata": {},
     "output_type": "execute_result"
    }
   ],
   "source": [
    "np.mean(e.flatten())"
   ]
  },
  {
   "cell_type": "code",
   "execution_count": 255,
   "metadata": {
    "collapsed": false
   },
   "outputs": [
    {
     "data": {
      "text/plain": [
       "array([[254, 389],\n",
       "       [257, 424],\n",
       "       [264, 456],\n",
       "       [273, 487],\n",
       "       [284, 515],\n",
       "       [302, 541],\n",
       "       [323, 563],\n",
       "       [346, 581],\n",
       "       [376, 587],\n",
       "       [405, 581],\n",
       "       [432, 563],\n",
       "       [453, 540],\n",
       "       [469, 514],\n",
       "       [480, 485],\n",
       "       [486, 454],\n",
       "       [491, 421],\n",
       "       [491, 388],\n",
       "       [261, 364],\n",
       "       [272, 351],\n",
       "       [291, 345],\n",
       "       [310, 347],\n",
       "       [327, 357],\n",
       "       [392, 356],\n",
       "       [412, 343],\n",
       "       [436, 341],\n",
       "       [457, 349],\n",
       "       [473, 363],\n",
       "       [359, 388],\n",
       "       [358, 415],\n",
       "       [357, 441],\n",
       "       [356, 467],\n",
       "       [339, 480],\n",
       "       [349, 483],\n",
       "       [361, 486],\n",
       "       [374, 481],\n",
       "       [387, 478],\n",
       "       [284, 395],\n",
       "       [297, 384],\n",
       "       [316, 385],\n",
       "       [331, 400],\n",
       "       [315, 405],\n",
       "       [296, 404],\n",
       "       [397, 398],\n",
       "       [413, 382],\n",
       "       [432, 380],\n",
       "       [448, 391],\n",
       "       [435, 399],\n",
       "       [415, 401],\n",
       "       [323, 510]])"
      ]
     },
     "execution_count": 255,
     "metadata": {},
     "output_type": "execute_result"
    }
   ],
   "source": [
    "\n",
    "rgb = np.zeros((img.shape[0], img.shape[1], 3), dtype=np.uint8)\n",
    "rgb[:, :, 0] = np.round(img[:, :, 2] * 255 + 122.675)\n",
    "rgb[:, :, 1] = np.round(img[:, :, 1] * 255 + 116.669)\n",
    "rgb[:, :, 2] = np.round(img[:, :, 0] * 255 + 104.008)\n",
    "get_facial_points(rgb, 49)\n"
   ]
  },
  {
   "cell_type": "code",
   "execution_count": 256,
   "metadata": {
    "collapsed": false
   },
   "outputs": [
    {
     "data": {
      "text/plain": [
       "array([[264.7586 , 358.70364],\n",
       "       [275.513  , 347.35376],\n",
       "       [291.60327, 344.6247 ],\n",
       "       [308.12665, 348.05914],\n",
       "       [323.85873, 351.5761 ],\n",
       "       [393.51923, 355.1911 ],\n",
       "       [408.41528, 347.4593 ],\n",
       "       [425.62332, 343.90247],\n",
       "       [441.80576, 346.36078],\n",
       "       [457.1753 , 352.8955 ],\n",
       "       [361.72974, 393.6062 ],\n",
       "       [363.8787 , 412.2971 ],\n",
       "       [366.3925 , 430.4419 ],\n",
       "       [369.73175, 448.58878],\n",
       "       [351.90198, 473.2341 ],\n",
       "       [359.53162, 477.0737 ],\n",
       "       [368.77457, 478.47934],\n",
       "       [380.22018, 476.3147 ],\n",
       "       [389.9772 , 472.9381 ],\n",
       "       [285.9214 , 395.84012],\n",
       "       [301.16644, 386.24518],\n",
       "       [317.21146, 388.55524],\n",
       "       [330.28784, 400.73123],\n",
       "       [315.32806, 405.4568 ],\n",
       "       [299.52612, 404.94424],\n",
       "       [395.69937, 398.53592],\n",
       "       [409.96362, 385.0723 ],\n",
       "       [427.85672, 382.3143 ],\n",
       "       [441.0335 , 393.04187],\n",
       "       [427.7671 , 400.72296],\n",
       "       [411.5628 , 401.684  ],\n",
       "       [335.06357, 512.85175],\n",
       "       [350.8906 , 513.20514],\n",
       "       [363.01535, 510.75778],\n",
       "       [376.08606, 509.83606],\n",
       "       [389.6513 , 506.07907],\n",
       "       [403.43185, 507.19464],\n",
       "       [418.56372, 507.33908],\n",
       "       [408.54443, 518.7717 ],\n",
       "       [396.73663, 526.605  ],\n",
       "       [382.97934, 529.95105],\n",
       "       [365.78854, 529.0365 ],\n",
       "       [349.2778 , 523.9413 ],\n",
       "       [360.6025 , 518.45886],\n",
       "       [377.2032 , 518.4402 ],\n",
       "       [395.11044, 514.49   ],\n",
       "       [395.55975, 514.64246],\n",
       "       [378.2759 , 518.859  ],\n",
       "       [361.3236 , 516.98224]], dtype=float32)"
      ]
     },
     "execution_count": 256,
     "metadata": {},
     "output_type": "execute_result"
    }
   ],
   "source": [
    "destracker"
   ]
  },
  {
   "cell_type": "code",
   "execution_count": 169,
   "metadata": {
    "collapsed": false
   },
   "outputs": [],
   "source": [
    "image = imread('/Users/yu-chieh/Downloads/images_data_crop/00688.jpg')\n",
    "ref = imread('/Users/yu-chieh/Downloads/images_data_crop/00047.jpg')\n"
   ]
  },
  {
   "cell_type": "code",
   "execution_count": 170,
   "metadata": {
    "collapsed": false
   },
   "outputs": [],
   "source": [
    "a = get_facial_points(image, 49)\n",
    "b = get_facial_points(ref, 49)\n",
    "trans = nudged.estimate(a, b);\n",
    "h = np.array(trans.get_matrix())[0:2]\n",
    "# h, status = cv2.findHomography(a, b)\n",
    "warpedxx = np.array(cv2.warpAffine(xxc, h, xxc.shape, flags=cv2.INTER_LINEAR))\n",
    "warpedyy = np.array(cv2.warpAffine(yyc, h, yyc.shape))\n",
    "warpedmask = np.array(cv2.warpAffine(maskc, h, maskc.shape))\n",
    "# warpedxx = np.array(cv2.warpPerspective(xxc, h, xxc.shape))\n",
    "# warpedyy = np.array(cv2.warpPerspective(yyc, h, yyc.shape))\n",
    "# warpedmask = np.array(cv2.warpPerspective(maskc, h, maskc.shape))\n",
    "warpedxx = warpedxx[600:1400, 600:1200]\n",
    "warpedyy = warpedyy[600:1400, 600:1200]\n",
    "warpedmask = warpedmask[600:1400, 600:1200]"
   ]
  },
  {
   "cell_type": "code",
   "execution_count": 161,
   "metadata": {
    "collapsed": false
   },
   "outputs": [],
   "source": [
    "filtered_img = np.zeros((image.shape[0], image.shape[1], 6))\n",
    "filtered_img[:, :, 0:3] = normalize_image(image)\n",
    "filtered_img[:, :, 3] = warpedxx\n",
    "filtered_img[:, :, 4] = warpedyy\n",
    "filtered_img[:, :, 5] = warpedmask\n"
   ]
  },
  {
   "cell_type": "code",
   "execution_count": null,
   "metadata": {
    "collapsed": false
   },
   "outputs": [],
   "source": []
  },
  {
   "cell_type": "code",
   "execution_count": null,
   "metadata": {
    "collapsed": true
   },
   "outputs": [],
   "source": []
  }
 ],
 "metadata": {
  "anaconda-cloud": {},
  "kernelspec": {
   "display_name": "Python [conda root]",
   "language": "python",
   "name": "conda-root-py"
  },
  "language_info": {
   "codemirror_mode": {
    "name": "ipython",
    "version": 2
   },
   "file_extension": ".py",
   "mimetype": "text/x-python",
   "name": "python",
   "nbconvert_exporter": "python",
   "pygments_lexer": "ipython2",
   "version": "2.7.9"
  }
 },
 "nbformat": 4,
 "nbformat_minor": 2
}
