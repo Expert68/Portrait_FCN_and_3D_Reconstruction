{
 "cells": [
  {
   "cell_type": "markdown",
   "metadata": {},
   "source": [
    "## Python version of get_warped_xy_mmask.m"
   ]
  },
  {
   "cell_type": "markdown",
   "metadata": {},
   "source": [
    "### Import modules"
   ]
  },
  {
   "cell_type": "code",
   "execution_count": 252,
   "metadata": {
    "collapsed": false
   },
   "outputs": [],
   "source": [
    "# make sure to conda install imread, cv2\n",
    "\n",
    "import os\n",
    "import sys\n",
    "import numpy as np\n",
    "import cv2\n",
    "import numpy.matlib\n",
    "import dlib\n",
    "\n",
    "from scipy.io import loadmat\n",
    "from scipy.ndimage import imread, affine_transform\n"
   ]
  },
  {
   "cell_type": "markdown",
   "metadata": {},
   "source": [
    "### Add data folder to path and import .mat file"
   ]
  },
  {
   "cell_type": "code",
   "execution_count": 87,
   "metadata": {
    "collapsed": false
   },
   "outputs": [],
   "source": [
    "tracker_path = r'data/images_tracker/00047'\n",
    "reftracker = loadmat(tracker_path)['tracker']\n"
   ]
  },
  {
   "cell_type": "markdown",
   "metadata": {},
   "source": [
    "### Normalize x and y channels"
   ]
  },
  {
   "cell_type": "code",
   "execution_count": 253,
   "metadata": {
    "collapsed": false,
    "scrolled": true
   },
   "outputs": [],
   "source": [
    "\n",
    "def get_facial_points(image, num_points):\n",
    "    predictor = dlib.shape_predictor('shape_predictor_68_face_landmarks.dat')\n",
    "    detector = dlib.get_frontal_face_detector()\n",
    "    dets = detector(image, 1)\n",
    "    points = []\n",
    "    for k, d in enumerate(dets):\n",
    "        # Get the landmarks/parts for the face in box d.\n",
    "        shape = predictor(image, d)\n",
    "        for i in range(num_points):\n",
    "            pt = shape.part(i)\n",
    "            points.append([int(pt.x), int(pt.y)])\n",
    "    return np.array(points)\n",
    "\n",
    "def im2double(im):\n",
    "    info = np.iinfo(im.dtype) # Get the data type of the input image\n",
    "    return im.astype(np.float) / info.max # Divide all values by the largest possible value in the datatype\n",
    "\n",
    "def normalize_image(imat):\n",
    "    rgb = np.zeros((imat.shape[0], imat.shape[1], 3), dtype=np.int)\n",
    "    rgb[:, :, 0] = np.round((imat[:, :, 2] + 122.675)/255)\n",
    "    rgb[:, :, 1] = np.round((imat[:, :, 1] + 116.669)/255)\n",
    "    rgb[:, :, 2] = np.round((imat[:, :, 0] + 104.008)/255)\n",
    "\n",
    "refpos = np.floor(reftracker.mean(axis=0))\n",
    "\n",
    "xxc, yyc = np.meshgrid(np.linspace(1,1800, 1800), np.linspace(1,2000, 2000))\n",
    "xxc = (xxc-600-refpos[0])/600\n",
    "yyc = (yyc-600-refpos[1])/800"
   ]
  },
  {
   "cell_type": "code",
   "execution_count": 89,
   "metadata": {
    "collapsed": false
   },
   "outputs": [
    {
     "name": "stdout",
     "output_type": "stream",
     "text": [
      "0.3671111111111111\n"
     ]
    }
   ],
   "source": [
    "mmask_png =  r'meanmask.png'\n",
    "maskc = im2double(imread(mmask_png))\n",
    "print(np.mean(maskc[0]))\n",
    "maskc = np.pad(maskc, [600,600], 'constant')"
   ]
  },
  {
   "cell_type": "code",
   "execution_count": null,
   "metadata": {
    "collapsed": false
   },
   "outputs": [],
   "source": []
  },
  {
   "cell_type": "markdown",
   "metadata": {},
   "source": [
    "### Conditional on destracker"
   ]
  },
  {
   "cell_type": "code",
   "execution_count": 90,
   "metadata": {
    "collapsed": false
   },
   "outputs": [
    {
     "name": "stdout",
     "output_type": "stream",
     "text": [
      "ree\n"
     ]
    }
   ],
   "source": [
    "destracker_path = r'data/images_tracker/00020'\n",
    "destracker = loadmat(destracker_path)['tracker']\n",
    "image = loadmat(r'data/portraitFCN+_data/00020')['img']\n",
    "img_true = image[:, :, 0:3]\n",
    "warpedxx_true = image[:, :, 3]\n",
    "warpedyy_true = image[:, :, 4]\n",
    "warpedmask_true = image[:, :, 5]\n",
    "\n",
    "if np.shape(destracker)[0] == 49:\n",
    "    print('ree')\n"
   ]
  },
  {
   "cell_type": "code",
   "execution_count": 219,
   "metadata": {
    "collapsed": false
   },
   "outputs": [],
   "source": [
    "import nudged"
   ]
  },
  {
   "cell_type": "code",
   "execution_count": null,
   "metadata": {
    "collapsed": false
   },
   "outputs": [],
   "source": []
  },
  {
   "cell_type": "code",
   "execution_count": 238,
   "metadata": {
    "collapsed": false
   },
   "outputs": [],
   "source": [
    "# tform = cv2.getAffineTransform(pts1, pts2)\n",
    "h, status = cv2.findHomography(a, b)"
   ]
  },
  {
   "cell_type": "code",
   "execution_count": 239,
   "metadata": {
    "collapsed": false
   },
   "outputs": [],
   "source": [
    "trans = nudged.estimate(a, b);\n",
    "h = np.array(trans.get_matrix())[0:2]"
   ]
  },
  {
   "cell_type": "code",
   "execution_count": 240,
   "metadata": {
    "collapsed": false
   },
   "outputs": [],
   "source": [
    "# affine_transform(a, b)\n",
    "warpedxx = np.array(cv2.warpAffine(xxc, h, xxc.shape))\n",
    "warpedyy = np.array(cv2.warpAffine(yyc, h, yyc.shape))\n",
    "warpedmask = np.array(cv2.warpAffine(maskc, h, maskc.shape))\n"
   ]
  },
  {
   "cell_type": "code",
   "execution_count": 241,
   "metadata": {
    "collapsed": false
   },
   "outputs": [],
   "source": [
    "warpedxx = warpedxx[600:1400, 600:1200]\n",
    "warpedyy = warpedyy[600:1400, 600:1200]\n",
    "warpedmask = warpedmask[600:1400, 600:1200]\n",
    "        "
   ]
  },
  {
   "cell_type": "code",
   "execution_count": 250,
   "metadata": {
    "collapsed": false
   },
   "outputs": [],
   "source": [
    "e = warpedxx-warpedxx_true"
   ]
  },
  {
   "cell_type": "code",
   "execution_count": 251,
   "metadata": {
    "collapsed": false
   },
   "outputs": [
    {
     "data": {
      "text/plain": [
       "0.04152811697909831"
      ]
     },
     "execution_count": 251,
     "metadata": {},
     "output_type": "execute_result"
    }
   ],
   "source": [
    "np.mean(e.flatten())"
   ]
  },
  {
   "cell_type": "code",
   "execution_count": 255,
   "metadata": {
    "collapsed": false
   },
   "outputs": [
    {
     "data": {
      "text/plain": [
       "array([[254, 389],\n",
       "       [257, 424],\n",
       "       [264, 456],\n",
       "       [273, 487],\n",
       "       [284, 515],\n",
       "       [302, 541],\n",
       "       [323, 563],\n",
       "       [346, 581],\n",
       "       [376, 587],\n",
       "       [405, 581],\n",
       "       [432, 563],\n",
       "       [453, 540],\n",
       "       [469, 514],\n",
       "       [480, 485],\n",
       "       [486, 454],\n",
       "       [491, 421],\n",
       "       [491, 388],\n",
       "       [261, 364],\n",
       "       [272, 351],\n",
       "       [291, 345],\n",
       "       [310, 347],\n",
       "       [327, 357],\n",
       "       [392, 356],\n",
       "       [412, 343],\n",
       "       [436, 341],\n",
       "       [457, 349],\n",
       "       [473, 363],\n",
       "       [359, 388],\n",
       "       [358, 415],\n",
       "       [357, 441],\n",
       "       [356, 467],\n",
       "       [339, 480],\n",
       "       [349, 483],\n",
       "       [361, 486],\n",
       "       [374, 481],\n",
       "       [387, 478],\n",
       "       [284, 395],\n",
       "       [297, 384],\n",
       "       [316, 385],\n",
       "       [331, 400],\n",
       "       [315, 405],\n",
       "       [296, 404],\n",
       "       [397, 398],\n",
       "       [413, 382],\n",
       "       [432, 380],\n",
       "       [448, 391],\n",
       "       [435, 399],\n",
       "       [415, 401],\n",
       "       [323, 510]])"
      ]
     },
     "execution_count": 255,
     "metadata": {},
     "output_type": "execute_result"
    }
   ],
   "source": [
    "rgb = np.zeros((img.shape[0], img.shape[1], 3), dtype=np.uint8)\n",
    "rgb[:, :, 0] = np.round(img[:, :, 2] * 255 + 122.675)\n",
    "rgb[:, :, 1] = np.round(img[:, :, 1] * 255 + 116.669)\n",
    "rgb[:, :, 2] = np.round(img[:, :, 0] * 255 + 104.008)\n",
    "get_facial_points(rgb, 49)\n"
   ]
  },
  {
   "cell_type": "code",
   "execution_count": 256,
   "metadata": {
    "collapsed": false
   },
   "outputs": [
    {
     "data": {
      "text/plain": [
       "array([[264.7586 , 358.70364],\n",
       "       [275.513  , 347.35376],\n",
       "       [291.60327, 344.6247 ],\n",
       "       [308.12665, 348.05914],\n",
       "       [323.85873, 351.5761 ],\n",
       "       [393.51923, 355.1911 ],\n",
       "       [408.41528, 347.4593 ],\n",
       "       [425.62332, 343.90247],\n",
       "       [441.80576, 346.36078],\n",
       "       [457.1753 , 352.8955 ],\n",
       "       [361.72974, 393.6062 ],\n",
       "       [363.8787 , 412.2971 ],\n",
       "       [366.3925 , 430.4419 ],\n",
       "       [369.73175, 448.58878],\n",
       "       [351.90198, 473.2341 ],\n",
       "       [359.53162, 477.0737 ],\n",
       "       [368.77457, 478.47934],\n",
       "       [380.22018, 476.3147 ],\n",
       "       [389.9772 , 472.9381 ],\n",
       "       [285.9214 , 395.84012],\n",
       "       [301.16644, 386.24518],\n",
       "       [317.21146, 388.55524],\n",
       "       [330.28784, 400.73123],\n",
       "       [315.32806, 405.4568 ],\n",
       "       [299.52612, 404.94424],\n",
       "       [395.69937, 398.53592],\n",
       "       [409.96362, 385.0723 ],\n",
       "       [427.85672, 382.3143 ],\n",
       "       [441.0335 , 393.04187],\n",
       "       [427.7671 , 400.72296],\n",
       "       [411.5628 , 401.684  ],\n",
       "       [335.06357, 512.85175],\n",
       "       [350.8906 , 513.20514],\n",
       "       [363.01535, 510.75778],\n",
       "       [376.08606, 509.83606],\n",
       "       [389.6513 , 506.07907],\n",
       "       [403.43185, 507.19464],\n",
       "       [418.56372, 507.33908],\n",
       "       [408.54443, 518.7717 ],\n",
       "       [396.73663, 526.605  ],\n",
       "       [382.97934, 529.95105],\n",
       "       [365.78854, 529.0365 ],\n",
       "       [349.2778 , 523.9413 ],\n",
       "       [360.6025 , 518.45886],\n",
       "       [377.2032 , 518.4402 ],\n",
       "       [395.11044, 514.49   ],\n",
       "       [395.55975, 514.64246],\n",
       "       [378.2759 , 518.859  ],\n",
       "       [361.3236 , 516.98224]], dtype=float32)"
      ]
     },
     "execution_count": 256,
     "metadata": {},
     "output_type": "execute_result"
    }
   ],
   "source": [
    "destracker"
   ]
  },
  {
   "cell_type": "code",
   "execution_count": null,
   "metadata": {
    "collapsed": true
   },
   "outputs": [],
   "source": []
  }
 ],
 "metadata": {
  "anaconda-cloud": {},
  "kernelspec": {
   "display_name": "Python [conda root]",
   "language": "python",
   "name": "conda-root-py"
  }
 },
 "nbformat": 4,
 "nbformat_minor": 2
}
